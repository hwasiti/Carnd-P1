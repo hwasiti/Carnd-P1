{
 "cells": [
  {
   "cell_type": "code",
   "execution_count": null,
   "metadata": {
    "collapsed": true
   },
   "outputs": [],
   "source": [
    "    # Tests\n",
    "    points_left_X = np.array([])\n",
    "    points_left_Y = np.array([])\n",
    "\n",
    "    for line in lines_left:\n",
    "        for x1,y1,x2,y2 in line:\n",
    "            points_left_X = np.append(points_left_X , [x1,x2])\n",
    "            points_left_Y = np.append(points_left_Y , [y1,y2])\n",
    "\n",
    "\n",
    "    points_right_X = np.array([])\n",
    "    points_right_Y = np.array([])\n",
    "\n",
    "    for line in lines_right:\n",
    "        for x1,y1,x2,y2 in line:\n",
    "            points_right_X = np.append(points_right_X , [x1,x2])\n",
    "            points_right_Y = np.append(points_right_Y , [y1,y2])\n",
    "\n",
    "    \n",
    "    #print(points_right_X)             \n",
    "    #points_right_X.reshape(-1, 1)\n",
    "\n",
    "    points_left_X = points_left_X.reshape(-1, 1)\n",
    "    points_left_Y = points_left_Y.reshape(-1, 1)\n",
    "    points_right_X = points_right_X.reshape(-1, 1)\n",
    "    points_right_Y = points_right_Y.reshape(-1, 1)\n",
    "    \n",
    "    #Adding extrema for the points\n",
    "    points_right_X_with_extrema = np.append(points_right_X,[[500],np.array(imshape[1]).reshape(-1,1)],0)\n",
    "    points_left_X_with_extrema = np.append(points_left_X,[[500],[0]],0)\n",
    "\n",
    "    \n",
    "    regr_left.fit(points_left_X, points_left_Y)\n",
    "    regr_right.fit(points_right_X, points_right_Y)\n",
    "    \n",
    "    \n",
    "\n",
    "    plt.scatter(points_left_X, points_left_Y,  color='black')\n",
    "    plt.plot(points_left_X_with_extrema, regr_left.predict(points_left_X_with_extrema), color='blue',\n",
    "         linewidth=3)\n",
    "    \n",
    "    \n",
    "    #plt.xticks(np.arange(imshape[1]))\n",
    "    #plt.yticks(np.arange(imshape[0]))\n",
    "    plt.show()\n",
    "    \n",
    "    \n",
    "    plt.scatter(points_right_X, points_right_Y,  color='black')\n",
    "    plt.plot(points_right_X_with_extrema, regr_right.predict(points_right_X_with_extrema), color='blue',\n",
    "         linewidth=3)\n",
    "    \n",
    "    \n",
    "    #plt.xticks(np.arange(imshape[1]))\n",
    "    #plt.yticks(np.arange(imshape[0]))\n",
    "\n",
    "\n",
    "    plt.show() \n",
    "    \n",
    "    "
   ]
  },
  {
   "cell_type": "code",
   "execution_count": null,
   "metadata": {
    "collapsed": true
   },
   "outputs": [],
   "source": [
    "vertices_left = np.array([[(0,imshape[0]),(450, 325), (500, 325), (500,imshape[0])]], dtype=np.int32)\n",
    "    vertices_right = np.array([[(500,imshape[0]),(500, 325), (550, 325), (imshape[1],imshape[0])]], dtype=np.int32)\n",
    "   "
   ]
  },
  {
   "cell_type": "code",
   "execution_count": null,
   "metadata": {
    "collapsed": true
   },
   "outputs": [],
   "source": [
    "#image_hough_lines_right = hough_lines(masked_edges_right, rho, theta, threshold,  min_line_length, max_line_gap)\n",
    "    #image_hough_lines_right = weighted_img(image_hough_lines_right, image, 0.8, 1., 0.)\n",
    "    #plt.figure()\n",
    "    #plt.imshow(image_hough_lines_right)\n",
    "    \n",
    "    ## Masking the left and right line_image\n",
    "    #line_image_all = weighted_img(line_image_left, line_image_right, 1., 1., 0.)\n",
    "    \n",
    "    ## Draw the lines on the  image\n",
    "    #lines_edges = weighted_img(line_image_all, image, 0.8, 1., 0.)\n",
    "    \n",
    "    #plt.figure()\n",
    "    #plt.imshow(lines_edges)"
   ]
  }
 ],
 "metadata": {
  "kernelspec": {
   "display_name": "Python 3",
   "language": "python",
   "name": "python3"
  },
  "language_info": {
   "codemirror_mode": {
    "name": "ipython",
    "version": 3
   },
   "file_extension": ".py",
   "mimetype": "text/x-python",
   "name": "python",
   "nbconvert_exporter": "python",
   "pygments_lexer": "ipython3",
   "version": "3.5.2"
  },
  "widgets": {
   "state": {},
   "version": "1.1.2"
  }
 },
 "nbformat": 4,
 "nbformat_minor": 2
}
